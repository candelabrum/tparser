{
 "cells": [
  {
   "cell_type": "code",
   "execution_count": 2,
   "id": "039dac5d-095f-41a8-8cbe-2a31fc9caadd",
   "metadata": {},
   "outputs": [
    {
     "name": "stdout",
     "output_type": "stream",
     "text": [
      "I am starting calculate embeddings, time required ~ 15.0 seconds\n"
     ]
    },
    {
     "name": "stderr",
     "output_type": "stream",
     "text": [
      "/home/vlad/Desktop/Work/tg/main.py:13: SettingWithCopyWarning: \n",
      "A value is trying to be set on a copy of a slice from a DataFrame.\n",
      "Try using .loc[row_indexer,col_indexer] = value instead\n",
      "\n",
      "See the caveats in the documentation: https://pandas.pydata.org/pandas-docs/stable/user_guide/indexing.html#returning-a-view-versus-a-copy\n",
      "  all_docs_df['embed'] = all_docs_df['message'].apply(\n",
      "/home/vlad/Desktop/Work/tg/summarization.py:119: SettingWithCopyWarning: \n",
      "A value is trying to be set on a copy of a slice from a DataFrame.\n",
      "Try using .loc[row_indexer,col_indexer] = value instead\n",
      "\n",
      "See the caveats in the documentation: https://pandas.pydata.org/pandas-docs/stable/user_guide/indexing.html#returning-a-view-versus-a-copy\n",
      "  all_docs_df['label'] = cluster.labels_\n",
      "/home/vlad/.local/lib/python3.10/site-packages/sklearn/utils/deprecation.py:151: FutureWarning: 'force_all_finite' was renamed to 'ensure_all_finite' in 1.6 and will be removed in 1.8.\n",
      "  warnings.warn(\n",
      "/home/vlad/.local/lib/python3.10/site-packages/umap/umap_.py:1945: UserWarning: n_jobs value 1 overridden to 1 by setting random_state. Use no seed for parallelism.\n",
      "  warn(f\"n_jobs value {self.n_jobs} overridden to 1 by setting random_state. Use no seed for parallelism.\")\n",
      "  0%|                                                    | 0/24 [00:00<?, ?it/s]\n",
      "  0%|                                                     | 0/1 [00:00<?, ?it/s]\u001b[A\n",
      "100%|█████████████████████████████████████████████| 1/1 [00:01<00:00,  1.69s/it]\u001b[A\n",
      "\n",
      "13it [00:00, 11328.89it/s]\n",
      "  4%|█▊                                          | 1/24 [00:01<00:39,  1.72s/it]\n",
      "  0%|                                                     | 0/1 [00:00<?, ?it/s]\u001b[A\n",
      "100%|█████████████████████████████████████████████| 1/1 [00:00<00:00,  1.20it/s]\u001b[A\n",
      "/home/vlad/Desktop/Work/tg/summarization.py:150: SettingWithCopyWarning:\n",
      "\n",
      "\n",
      "A value is trying to be set on a copy of a slice from a DataFrame.\n",
      "Try using .loc[row_indexer,col_indexer] = value instead\n",
      "\n",
      "See the caveats in the documentation: https://pandas.pydata.org/pandas-docs/stable/user_guide/indexing.html#returning-a-view-versus-a-copy\n",
      "\n",
      "\n",
      "7it [00:00, 6499.92it/s]\n",
      "  8%|███▋                                        | 2/24 [00:02<00:26,  1.22s/it]\n",
      "  0%|                                                     | 0/1 [00:00<?, ?it/s]\u001b[A\n",
      "100%|█████████████████████████████████████████████| 1/1 [00:00<00:00,  1.80it/s]\u001b[A\n",
      "\n",
      "4it [00:00, 15169.27it/s]\n",
      " 12%|█████▌                                      | 3/24 [00:03<00:19,  1.08it/s]\n",
      "  0%|                                                     | 0/1 [00:00<?, ?it/s]\u001b[A\n",
      "100%|█████████████████████████████████████████████| 1/1 [00:00<00:00,  1.16it/s]\u001b[A\n",
      "\n",
      "3it [00:00, 6174.15it/s]\n",
      " 17%|███████▎                                    | 4/24 [00:04<00:18,  1.10it/s]\n",
      "  0%|                                                     | 0/1 [00:00<?, ?it/s]\u001b[A\n",
      "100%|█████████████████████████████████████████████| 1/1 [00:00<00:00,  5.03it/s]\u001b[A\n",
      "\n",
      "2it [00:00, 37786.52it/s]\n",
      " 21%|█████████▏                                  | 5/24 [00:04<00:12,  1.51it/s]\n",
      "  0%|                                                     | 0/1 [00:00<?, ?it/s]\u001b[A\n",
      "100%|█████████████████████████████████████████████| 1/1 [00:00<00:00,  6.15it/s]\u001b[A\n",
      " 25%|███████████                                 | 6/24 [00:04<00:08,  2.00it/s]\n",
      "  0%|                                                     | 0/1 [00:00<?, ?it/s]\u001b[A\n",
      "100%|█████████████████████████████████████████████| 1/1 [00:00<00:00,  6.25it/s]\u001b[A\n",
      " 29%|████████████▊                               | 7/24 [00:04<00:06,  2.54it/s]\n",
      "  0%|                                                     | 0/1 [00:00<?, ?it/s]\u001b[A\n",
      "100%|█████████████████████████████████████████████| 1/1 [00:00<00:00,  7.96it/s]\u001b[A\n",
      " 33%|██████████████▋                             | 8/24 [00:04<00:05,  3.18it/s]\n",
      "  0%|                                                     | 0/1 [00:00<?, ?it/s]\u001b[A\n",
      "100%|█████████████████████████████████████████████| 1/1 [00:00<00:00,  6.24it/s]\u001b[A\n",
      " 38%|████████████████▌                           | 9/24 [00:04<00:04,  3.68it/s]\n",
      "  0%|                                                     | 0/1 [00:00<?, ?it/s]\u001b[A\n",
      "100%|█████████████████████████████████████████████| 1/1 [00:00<00:00,  1.93it/s]\u001b[A\n",
      "\n",
      "3it [00:00, 32346.82it/s]\n",
      " 38%|████████████████▌                           | 9/24 [00:05<00:09,  1.63it/s]"
     ]
    },
    {
     "name": "stdout",
     "output_type": "stream",
     "text": [
      "- Место где лежит раненый лось.\n",
      "====================================================\n"
     ]
    },
    {
     "name": "stderr",
     "output_type": "stream",
     "text": [
      "\n"
     ]
    }
   ],
   "source": [
    "import main\n",
    "import pandas as pd\n",
    "\n",
    "\n",
    "all_docs_df = pd.read_csv('example_news.csv')\n",
    "main.get_summary(all_docs_df.iloc[:30, :])"
   ]
  },
  {
   "cell_type": "code",
   "execution_count": null,
   "id": "01c764d4-05db-4378-aacd-b7a7a84b5eb6",
   "metadata": {},
   "outputs": [],
   "source": []
  }
 ],
 "metadata": {
  "kernelspec": {
   "display_name": "Python 3 (ipykernel)",
   "language": "python",
   "name": "python3"
  },
  "language_info": {
   "codemirror_mode": {
    "name": "ipython",
    "version": 3
   },
   "file_extension": ".py",
   "mimetype": "text/x-python",
   "name": "python",
   "nbconvert_exporter": "python",
   "pygments_lexer": "ipython3",
   "version": "3.10.12"
  }
 },
 "nbformat": 4,
 "nbformat_minor": 5
}
